{
 "cells": [
  {
   "cell_type": "code",
   "execution_count": 53,
   "outputs": [
    {
     "name": "stdout",
     "output_type": "stream",
     "text": [
      "116.343087,40.409067\n"
     ]
    }
   ],
   "source": [
    "nmea = '050426.00, 4002.4544N, 11620.5852E, 0.5, 68.3, 3, , 0.0, 0.0, 150123, 33'\n",
    "nmea = input()\n",
    "# nmea = nmea.strip(' ')\n",
    "nmea = nmea.split(', ')\n",
    "t = nmea[1][:-1].replace('.','')\n",
    "n = float(t[:2]+'.'+str(int(t[2:])/60).replace('.',''))\n",
    "t = nmea[2][:-1].replace('.','')\n",
    "e = float(t[:3]+'.'+str(int(t[3:])/60).replace('.',''))\n",
    "print(f'{e:.6f},{n:.6f}')"
   ],
   "metadata": {
    "collapsed": false
   }
  },
  {
   "cell_type": "code",
   "execution_count": 64,
   "outputs": [],
   "source": [
    "import pynmea2"
   ],
   "metadata": {
    "collapsed": false
   }
  },
  {
   "cell_type": "code",
   "execution_count": 75,
   "outputs": [
    {
     "data": {
      "text/plain": "re.compile(r'^(?P<talker>\\w{2})(?P<listener>\\w{2})Q,(?P<sentence>\\w{3})$',\n           re.UNICODE)"
     },
     "execution_count": 75,
     "metadata": {},
     "output_type": "execute_result"
    }
   ],
   "source": [
    "msg = pynmea2.parse(\"$GPGGA,055058.00,4002.454463,N,11620.586429,E,1,10,0.5,63.1,M,-7.0,M,,*49\")\n",
    "msg.query_re\n",
    "\n",
    "# print(str(msg.longitude, msg.latitude)"
   ],
   "metadata": {
    "collapsed": false
   }
  },
  {
   "cell_type": "code",
   "execution_count": 72,
   "outputs": [
    {
     "ename": "AttributeError",
     "evalue": "module 'serial' has no attribute 'Serial'",
     "output_type": "error",
     "traceback": [
      "\u001B[0;31m---------------------------------------------------------------------------\u001B[0m",
      "\u001B[0;31mAttributeError\u001B[0m                            Traceback (most recent call last)",
      "Cell \u001B[0;32mIn[72], line 7\u001B[0m\n\u001B[1;32m      3\u001B[0m \u001B[38;5;28;01mimport\u001B[39;00m \u001B[38;5;21;01mpynmea2\u001B[39;00m\n\u001B[1;32m      4\u001B[0m \u001B[38;5;28;01mimport\u001B[39;00m \u001B[38;5;21;01mserial\u001B[39;00m\n\u001B[0;32m----> 7\u001B[0m ser \u001B[38;5;241m=\u001B[39m \u001B[43mserial\u001B[49m\u001B[38;5;241;43m.\u001B[39;49m\u001B[43mSerial\u001B[49m(\u001B[38;5;124m'\u001B[39m\u001B[38;5;124m/dev/ttyS1\u001B[39m\u001B[38;5;124m'\u001B[39m, \u001B[38;5;241m9600\u001B[39m, timeout\u001B[38;5;241m=\u001B[39m\u001B[38;5;241m5.0\u001B[39m)\n\u001B[1;32m      8\u001B[0m sio \u001B[38;5;241m=\u001B[39m io\u001B[38;5;241m.\u001B[39mTextIOWrapper(io\u001B[38;5;241m.\u001B[39mBufferedRWPair(ser, ser))\n\u001B[1;32m     10\u001B[0m \u001B[38;5;28;01mwhile\u001B[39;00m \u001B[38;5;241m1\u001B[39m:\n",
      "\u001B[0;31mAttributeError\u001B[0m: module 'serial' has no attribute 'Serial'"
     ]
    }
   ],
   "source": [
    "import io\n",
    "\n",
    "import pynmea2\n",
    "import serial\n",
    "\n",
    "\n",
    "ser = serial.Serial('/dev/ttyS1', 9600, timeout=5.0)\n",
    "sio = io.TextIOWrapper(io.BufferedRWPair(ser, ser))\n",
    "\n",
    "while 1:\n",
    "    try:\n",
    "        line = sio.readline()\n",
    "        msg = pynmea2.parse(line)\n",
    "        print(repr(msg))\n",
    "    except serial.SerialException as e:\n",
    "        print('Device error: {}'.format(e))\n",
    "        break\n",
    "    except pynmea2.ParseError as e:\n",
    "        print('Parse error: {}'.format(e))\n",
    "        continue"
   ],
   "metadata": {
    "collapsed": false
   }
  },
  {
   "cell_type": "code",
   "execution_count": null,
   "outputs": [],
   "source": [],
   "metadata": {
    "collapsed": false
   }
  }
 ],
 "metadata": {
  "kernelspec": {
   "display_name": "Python 3",
   "language": "python",
   "name": "python3"
  },
  "language_info": {
   "codemirror_mode": {
    "name": "ipython",
    "version": 2
   },
   "file_extension": ".py",
   "mimetype": "text/x-python",
   "name": "python",
   "nbconvert_exporter": "python",
   "pygments_lexer": "ipython2",
   "version": "2.7.6"
  }
 },
 "nbformat": 4,
 "nbformat_minor": 0
}
